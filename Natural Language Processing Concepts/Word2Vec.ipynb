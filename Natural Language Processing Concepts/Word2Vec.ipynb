{
 "cells": [
  {
   "cell_type": "code",
   "execution_count": 1,
   "metadata": {},
   "outputs": [],
   "source": [
    "import nltk"
   ]
  },
  {
   "cell_type": "code",
   "execution_count": 2,
   "metadata": {},
   "outputs": [],
   "source": [
    "paragraph = \"\"\"I have three visions for India. In 3000 years of our history, people from all over \n",
    "               the world have come and invaded us, captured our lands, conquered our minds. \n",
    "               From Alexander onwards, the Greeks, the Turks, the Moguls, the Portuguese, the British,\n",
    "               the French, the Dutch, all of them came and looted us, took over what was ours. \n",
    "               Yet we have not done this to any other nation. We have not conquered anyone. \n",
    "               We have not grabbed their land, their culture, \n",
    "               their history and tried to enforce our way of life on them. \n",
    "               Why? Because we respect the freedom of others.That is why my \n",
    "               first vision is that of freedom. I believe that India got its first vision of \n",
    "               this in 1857, when we started the War of Independence. It is this freedom that\n",
    "               we must protect and nurture and build on. If we are not free, no one will respect us.\n",
    "               My second vision for India’s development. For fifty years we have been a developing nation.\n",
    "               It is time we see ourselves as a developed nation. We are among the top 5 nations of the world\n",
    "               in terms of GDP. We have a 10 percent growth rate in most areas. Our poverty levels are falling.\n",
    "               Our achievements are being globally recognised today. Yet we lack the self-confidence to\n",
    "               see ourselves as a developed nation, self-reliant and self-assured. Isn’t this incorrect?\n",
    "               I have a third vision. India must stand up to the world. Because I believe that unless India \n",
    "               stands up to the world, no one will respect us. Only strength respects strength. We must be \n",
    "               strong not only as a military power but also as an economic power. Both must go hand-in-hand. \n",
    "               My good fortune was to have worked with three great minds. Dr. Vikram Sarabhai of the Dept. of \n",
    "               space, Professor Satish Dhawan, who succeeded him and Dr. Brahm Prakash, father of nuclear material.\n",
    "               I was lucky to have worked with all three of them closely and consider this the great opportunity of my life. \n",
    "               I see four milestones in my career\"\"\""
   ]
  },
  {
   "cell_type": "code",
   "execution_count": 3,
   "metadata": {},
   "outputs": [],
   "source": [
    "import re"
   ]
  },
  {
   "cell_type": "code",
   "execution_count": 4,
   "metadata": {},
   "outputs": [],
   "source": [
    "from nltk.corpus import stopwords"
   ]
  },
  {
   "cell_type": "code",
   "execution_count": 8,
   "metadata": {},
   "outputs": [],
   "source": [
    "from gensim.models import Word2Vec"
   ]
  },
  {
   "cell_type": "markdown",
   "metadata": {},
   "source": [
    "# Step 1 : Preprocessing the data"
   ]
  },
  {
   "cell_type": "code",
   "execution_count": 9,
   "metadata": {},
   "outputs": [],
   "source": [
    "text = re.sub(r'\\[[0-9]*\\]',' ',paragraph)"
   ]
  },
  {
   "cell_type": "code",
   "execution_count": 10,
   "metadata": {},
   "outputs": [],
   "source": [
    "text = re.sub(r'\\s+',' ',text)"
   ]
  },
  {
   "cell_type": "code",
   "execution_count": 11,
   "metadata": {},
   "outputs": [],
   "source": [
    "text = text.lower()"
   ]
  },
  {
   "cell_type": "code",
   "execution_count": 12,
   "metadata": {},
   "outputs": [],
   "source": [
    "text = re.sub(r'\\d',' ',text)"
   ]
  },
  {
   "cell_type": "code",
   "execution_count": 13,
   "metadata": {},
   "outputs": [],
   "source": [
    "text = re.sub(r'\\s+',' ',text)"
   ]
  },
  {
   "cell_type": "markdown",
   "metadata": {},
   "source": [
    "# Step2 : Preparing the data set"
   ]
  },
  {
   "cell_type": "code",
   "execution_count": 16,
   "metadata": {},
   "outputs": [],
   "source": [
    "sentences = nltk.sent_tokenize(text)"
   ]
  },
  {
   "cell_type": "code",
   "execution_count": 17,
   "metadata": {},
   "outputs": [],
   "source": [
    "sentences = [nltk.word_tokenize(sentence) for sentence in sentences]"
   ]
  },
  {
   "cell_type": "code",
   "execution_count": 20,
   "metadata": {},
   "outputs": [],
   "source": [
    "for i in range (len(sentences)):\n",
    "    sentences[i] = [word for word in sentences[i] if word not in stopwords.words('english')]"
   ]
  },
  {
   "cell_type": "markdown",
   "metadata": {},
   "source": [
    "# Step 3: Training the Word2Vec model "
   ]
  },
  {
   "cell_type": "code",
   "execution_count": 21,
   "metadata": {},
   "outputs": [],
   "source": [
    "# min count says that if the word is present less than 1 . then skip that word."
   ]
  },
  {
   "cell_type": "code",
   "execution_count": 22,
   "metadata": {},
   "outputs": [],
   "source": [
    "model = Word2Vec(sentences, min_count = 1)"
   ]
  },
  {
   "cell_type": "code",
   "execution_count": 23,
   "metadata": {},
   "outputs": [],
   "source": [
    "# find the vocabulary from the word2Vec"
   ]
  },
  {
   "cell_type": "code",
   "execution_count": 24,
   "metadata": {},
   "outputs": [],
   "source": [
    "words= model.wv.vocab"
   ]
  },
  {
   "cell_type": "code",
   "execution_count": 25,
   "metadata": {},
   "outputs": [
    {
     "data": {
      "text/plain": [
       "{'three': <gensim.models.keyedvectors.Vocab at 0x7fddcb5db100>,\n",
       " 'visions': <gensim.models.keyedvectors.Vocab at 0x7fddcb73e430>,\n",
       " 'india': <gensim.models.keyedvectors.Vocab at 0x7fddcb71ac10>,\n",
       " '.': <gensim.models.keyedvectors.Vocab at 0x7fddcdf4eaf0>,\n",
       " 'years': <gensim.models.keyedvectors.Vocab at 0x7fddcdf4ea00>,\n",
       " 'history': <gensim.models.keyedvectors.Vocab at 0x7fddcdf4ed00>,\n",
       " ',': <gensim.models.keyedvectors.Vocab at 0x7fddcdf4e910>,\n",
       " 'people': <gensim.models.keyedvectors.Vocab at 0x7fddcdf4ebe0>,\n",
       " 'world': <gensim.models.keyedvectors.Vocab at 0x7fddcdf4edf0>,\n",
       " 'come': <gensim.models.keyedvectors.Vocab at 0x7fddcd9f9550>,\n",
       " 'invaded': <gensim.models.keyedvectors.Vocab at 0x7fddcd9f91c0>,\n",
       " 'us': <gensim.models.keyedvectors.Vocab at 0x7fddcd9f9790>,\n",
       " 'captured': <gensim.models.keyedvectors.Vocab at 0x7fddcdd9bb20>,\n",
       " 'lands': <gensim.models.keyedvectors.Vocab at 0x7fddce107fa0>,\n",
       " 'conquered': <gensim.models.keyedvectors.Vocab at 0x7fddce107550>,\n",
       " 'minds': <gensim.models.keyedvectors.Vocab at 0x7fddce107e80>,\n",
       " 'alexander': <gensim.models.keyedvectors.Vocab at 0x7fddce107ca0>,\n",
       " 'onwards': <gensim.models.keyedvectors.Vocab at 0x7fddce107d00>,\n",
       " 'greeks': <gensim.models.keyedvectors.Vocab at 0x7fddce107dc0>,\n",
       " 'turks': <gensim.models.keyedvectors.Vocab at 0x7fddce107cd0>,\n",
       " 'moguls': <gensim.models.keyedvectors.Vocab at 0x7fddce107ee0>,\n",
       " 'portuguese': <gensim.models.keyedvectors.Vocab at 0x7fddce107f40>,\n",
       " 'british': <gensim.models.keyedvectors.Vocab at 0x7fddce107a30>,\n",
       " 'french': <gensim.models.keyedvectors.Vocab at 0x7fddce107160>,\n",
       " 'dutch': <gensim.models.keyedvectors.Vocab at 0x7fddce1072b0>,\n",
       " 'came': <gensim.models.keyedvectors.Vocab at 0x7fddce107d60>,\n",
       " 'looted': <gensim.models.keyedvectors.Vocab at 0x7fddce107b80>,\n",
       " 'took': <gensim.models.keyedvectors.Vocab at 0x7fddce126070>,\n",
       " 'yet': <gensim.models.keyedvectors.Vocab at 0x7fddce1260d0>,\n",
       " 'done': <gensim.models.keyedvectors.Vocab at 0x7fddce126130>,\n",
       " 'nation': <gensim.models.keyedvectors.Vocab at 0x7fddce126190>,\n",
       " 'anyone': <gensim.models.keyedvectors.Vocab at 0x7fddce1261f0>,\n",
       " 'grabbed': <gensim.models.keyedvectors.Vocab at 0x7fddce126250>,\n",
       " 'land': <gensim.models.keyedvectors.Vocab at 0x7fddce1262b0>,\n",
       " 'culture': <gensim.models.keyedvectors.Vocab at 0x7fddce126310>,\n",
       " 'tried': <gensim.models.keyedvectors.Vocab at 0x7fddce126370>,\n",
       " 'enforce': <gensim.models.keyedvectors.Vocab at 0x7fddce1263d0>,\n",
       " 'way': <gensim.models.keyedvectors.Vocab at 0x7fddce126430>,\n",
       " 'life': <gensim.models.keyedvectors.Vocab at 0x7fddce126490>,\n",
       " '?': <gensim.models.keyedvectors.Vocab at 0x7fddce1264f0>,\n",
       " 'respect': <gensim.models.keyedvectors.Vocab at 0x7fddce126550>,\n",
       " 'freedom': <gensim.models.keyedvectors.Vocab at 0x7fddce1265b0>,\n",
       " 'others.that': <gensim.models.keyedvectors.Vocab at 0x7fddce126610>,\n",
       " 'first': <gensim.models.keyedvectors.Vocab at 0x7fddce126670>,\n",
       " 'vision': <gensim.models.keyedvectors.Vocab at 0x7fddce1266d0>,\n",
       " 'believe': <gensim.models.keyedvectors.Vocab at 0x7fddce126730>,\n",
       " 'got': <gensim.models.keyedvectors.Vocab at 0x7fddce126790>,\n",
       " 'started': <gensim.models.keyedvectors.Vocab at 0x7fddce1267f0>,\n",
       " 'war': <gensim.models.keyedvectors.Vocab at 0x7fddce126850>,\n",
       " 'independence': <gensim.models.keyedvectors.Vocab at 0x7fddce1268b0>,\n",
       " 'must': <gensim.models.keyedvectors.Vocab at 0x7fddce126910>,\n",
       " 'protect': <gensim.models.keyedvectors.Vocab at 0x7fddce126970>,\n",
       " 'nurture': <gensim.models.keyedvectors.Vocab at 0x7fddce1269d0>,\n",
       " 'build': <gensim.models.keyedvectors.Vocab at 0x7fddce126a30>,\n",
       " 'free': <gensim.models.keyedvectors.Vocab at 0x7fddce126a90>,\n",
       " 'one': <gensim.models.keyedvectors.Vocab at 0x7fddce126af0>,\n",
       " 'second': <gensim.models.keyedvectors.Vocab at 0x7fddce126b50>,\n",
       " '’': <gensim.models.keyedvectors.Vocab at 0x7fddce126bb0>,\n",
       " 'development': <gensim.models.keyedvectors.Vocab at 0x7fddce126c10>,\n",
       " 'fifty': <gensim.models.keyedvectors.Vocab at 0x7fddce126c70>,\n",
       " 'developing': <gensim.models.keyedvectors.Vocab at 0x7fddce126cd0>,\n",
       " 'time': <gensim.models.keyedvectors.Vocab at 0x7fddce126d30>,\n",
       " 'see': <gensim.models.keyedvectors.Vocab at 0x7fddce126d90>,\n",
       " 'developed': <gensim.models.keyedvectors.Vocab at 0x7fddce126df0>,\n",
       " 'among': <gensim.models.keyedvectors.Vocab at 0x7fddce126e50>,\n",
       " 'top': <gensim.models.keyedvectors.Vocab at 0x7fddce126eb0>,\n",
       " 'nations': <gensim.models.keyedvectors.Vocab at 0x7fddce126f10>,\n",
       " 'terms': <gensim.models.keyedvectors.Vocab at 0x7fddce126f70>,\n",
       " 'gdp': <gensim.models.keyedvectors.Vocab at 0x7fddce126fd0>,\n",
       " 'percent': <gensim.models.keyedvectors.Vocab at 0x7fddce127070>,\n",
       " 'growth': <gensim.models.keyedvectors.Vocab at 0x7fddce1270d0>,\n",
       " 'rate': <gensim.models.keyedvectors.Vocab at 0x7fddce127130>,\n",
       " 'areas': <gensim.models.keyedvectors.Vocab at 0x7fddce127190>,\n",
       " 'poverty': <gensim.models.keyedvectors.Vocab at 0x7fddce1271f0>,\n",
       " 'levels': <gensim.models.keyedvectors.Vocab at 0x7fddce127250>,\n",
       " 'falling': <gensim.models.keyedvectors.Vocab at 0x7fddce1272b0>,\n",
       " 'achievements': <gensim.models.keyedvectors.Vocab at 0x7fddce127310>,\n",
       " 'globally': <gensim.models.keyedvectors.Vocab at 0x7fddce127370>,\n",
       " 'recognised': <gensim.models.keyedvectors.Vocab at 0x7fddce1273d0>,\n",
       " 'today': <gensim.models.keyedvectors.Vocab at 0x7fddce127430>,\n",
       " 'lack': <gensim.models.keyedvectors.Vocab at 0x7fddce127490>,\n",
       " 'self-confidence': <gensim.models.keyedvectors.Vocab at 0x7fddce1274f0>,\n",
       " 'self-reliant': <gensim.models.keyedvectors.Vocab at 0x7fddce127550>,\n",
       " 'self-assured': <gensim.models.keyedvectors.Vocab at 0x7fddce1275b0>,\n",
       " 'incorrect': <gensim.models.keyedvectors.Vocab at 0x7fddce127610>,\n",
       " 'third': <gensim.models.keyedvectors.Vocab at 0x7fddce127670>,\n",
       " 'stand': <gensim.models.keyedvectors.Vocab at 0x7fddce1276d0>,\n",
       " 'unless': <gensim.models.keyedvectors.Vocab at 0x7fddce127730>,\n",
       " 'stands': <gensim.models.keyedvectors.Vocab at 0x7fddce127790>,\n",
       " 'strength': <gensim.models.keyedvectors.Vocab at 0x7fddce1277f0>,\n",
       " 'respects': <gensim.models.keyedvectors.Vocab at 0x7fddce127850>,\n",
       " 'strong': <gensim.models.keyedvectors.Vocab at 0x7fddce1278b0>,\n",
       " 'military': <gensim.models.keyedvectors.Vocab at 0x7fddce127910>,\n",
       " 'power': <gensim.models.keyedvectors.Vocab at 0x7fddce127970>,\n",
       " 'also': <gensim.models.keyedvectors.Vocab at 0x7fddce1279d0>,\n",
       " 'economic': <gensim.models.keyedvectors.Vocab at 0x7fddce127a30>,\n",
       " 'go': <gensim.models.keyedvectors.Vocab at 0x7fddce127a90>,\n",
       " 'hand-in-hand': <gensim.models.keyedvectors.Vocab at 0x7fddce127af0>,\n",
       " 'good': <gensim.models.keyedvectors.Vocab at 0x7fddce127b50>,\n",
       " 'fortune': <gensim.models.keyedvectors.Vocab at 0x7fddce127bb0>,\n",
       " 'worked': <gensim.models.keyedvectors.Vocab at 0x7fddce127c10>,\n",
       " 'great': <gensim.models.keyedvectors.Vocab at 0x7fddce127c70>,\n",
       " 'dr.': <gensim.models.keyedvectors.Vocab at 0x7fddce127cd0>,\n",
       " 'vikram': <gensim.models.keyedvectors.Vocab at 0x7fddce127d30>,\n",
       " 'sarabhai': <gensim.models.keyedvectors.Vocab at 0x7fddce127d90>,\n",
       " 'dept': <gensim.models.keyedvectors.Vocab at 0x7fddce127df0>,\n",
       " 'space': <gensim.models.keyedvectors.Vocab at 0x7fddce127e50>,\n",
       " 'professor': <gensim.models.keyedvectors.Vocab at 0x7fddce127eb0>,\n",
       " 'satish': <gensim.models.keyedvectors.Vocab at 0x7fddce127f10>,\n",
       " 'dhawan': <gensim.models.keyedvectors.Vocab at 0x7fddce127f70>,\n",
       " 'succeeded': <gensim.models.keyedvectors.Vocab at 0x7fddce127fd0>,\n",
       " 'brahm': <gensim.models.keyedvectors.Vocab at 0x7fddce128070>,\n",
       " 'prakash': <gensim.models.keyedvectors.Vocab at 0x7fddce1280d0>,\n",
       " 'father': <gensim.models.keyedvectors.Vocab at 0x7fddce128130>,\n",
       " 'nuclear': <gensim.models.keyedvectors.Vocab at 0x7fddce128190>,\n",
       " 'material': <gensim.models.keyedvectors.Vocab at 0x7fddce1281f0>,\n",
       " 'lucky': <gensim.models.keyedvectors.Vocab at 0x7fddce128250>,\n",
       " 'closely': <gensim.models.keyedvectors.Vocab at 0x7fddce1282b0>,\n",
       " 'consider': <gensim.models.keyedvectors.Vocab at 0x7fddce128310>,\n",
       " 'opportunity': <gensim.models.keyedvectors.Vocab at 0x7fddce128370>,\n",
       " 'four': <gensim.models.keyedvectors.Vocab at 0x7fddce1283d0>,\n",
       " 'milestones': <gensim.models.keyedvectors.Vocab at 0x7fddce128430>,\n",
       " 'career': <gensim.models.keyedvectors.Vocab at 0x7fddce128490>}"
      ]
     },
     "execution_count": 25,
     "metadata": {},
     "output_type": "execute_result"
    }
   ],
   "source": [
    "words"
   ]
  },
  {
   "cell_type": "code",
   "execution_count": 26,
   "metadata": {},
   "outputs": [],
   "source": [
    "# finding word vector"
   ]
  },
  {
   "cell_type": "code",
   "execution_count": 27,
   "metadata": {},
   "outputs": [],
   "source": [
    "vector = model.wv['war']"
   ]
  },
  {
   "cell_type": "code",
   "execution_count": 28,
   "metadata": {},
   "outputs": [
    {
     "data": {
      "text/plain": [
       "array([-4.8998711e-03,  3.2910172e-04,  1.7391873e-03, -1.1193710e-03,\n",
       "       -2.2464667e-03, -3.3490839e-03, -5.2214967e-04, -2.8986449e-03,\n",
       "        4.7754371e-03,  3.5848012e-03, -4.6411669e-03,  4.1587162e-03,\n",
       "       -3.6003650e-03,  8.2152011e-04,  1.3858888e-03,  1.9250225e-03,\n",
       "        4.0840837e-03,  1.4834973e-04,  5.7885487e-04, -4.5787441e-03,\n",
       "        3.4055023e-03, -1.5905856e-03,  3.6588626e-03, -3.2121742e-03,\n",
       "        4.2543337e-03,  2.9785704e-04, -1.1601778e-03,  2.0662462e-03,\n",
       "       -4.3772375e-03, -2.6085901e-03,  4.1835499e-03, -1.2569549e-03,\n",
       "       -3.4786598e-03,  4.2984537e-03, -2.7478670e-03,  3.5894976e-03,\n",
       "        3.3705430e-03,  2.7721014e-03,  6.1829248e-04, -4.4068114e-05,\n",
       "        3.2155269e-03, -7.7897968e-04, -2.5200876e-03,  2.5261629e-03,\n",
       "       -3.1842180e-03,  1.9485129e-03, -1.2204280e-03, -2.0708733e-03,\n",
       "        2.9326414e-03,  8.0430019e-04, -7.7138911e-04,  3.5941589e-03,\n",
       "       -2.7420595e-03, -2.2251892e-03,  3.0370167e-04, -2.0900236e-03,\n",
       "        4.9008941e-03, -1.1104468e-03,  3.3973046e-03,  4.4116350e-03,\n",
       "       -1.0987220e-03, -4.7019892e-03, -7.4767374e-04,  2.1671115e-03,\n",
       "        3.1952034e-03,  6.3596724e-04,  1.2659415e-03, -2.4232308e-03,\n",
       "        3.6485109e-03, -1.7541170e-03, -2.6371412e-03,  4.1239057e-03,\n",
       "       -2.3123822e-03, -1.6055141e-03,  4.8333979e-03, -4.1762944e-03,\n",
       "       -6.8998022e-04,  8.5253175e-04,  8.5073436e-04,  3.4832696e-03,\n",
       "        4.0649326e-04,  4.7604465e-03,  2.5884337e-03,  4.3975604e-03,\n",
       "        2.2230129e-04,  4.9148942e-03,  4.0479260e-03, -4.7590523e-03,\n",
       "        4.5491781e-04,  4.9405815e-03, -2.6482570e-03, -3.5040183e-03,\n",
       "        1.3704372e-03,  6.4009597e-04,  2.5400161e-03, -1.2487057e-03,\n",
       "       -3.3643267e-03,  4.7692554e-03,  3.4372804e-03, -3.3204101e-03],\n",
       "      dtype=float32)"
      ]
     },
     "execution_count": 28,
     "metadata": {},
     "output_type": "execute_result"
    }
   ],
   "source": [
    "vector"
   ]
  },
  {
   "cell_type": "code",
   "execution_count": 29,
   "metadata": {},
   "outputs": [],
   "source": [
    "# most simlar words ( similar as war)"
   ]
  },
  {
   "cell_type": "code",
   "execution_count": 30,
   "metadata": {},
   "outputs": [],
   "source": [
    "similar = model.wv.most_similar('war')"
   ]
  },
  {
   "cell_type": "code",
   "execution_count": 31,
   "metadata": {},
   "outputs": [
    {
     "data": {
      "text/plain": [
       "[('invaded', 0.29118257761001587),\n",
       " ('four', 0.25797057151794434),\n",
       " ('levels', 0.21266941726207733),\n",
       " ('moguls', 0.17560164630413055),\n",
       " ('material', 0.15242531895637512),\n",
       " ('top', 0.1493310034275055),\n",
       " ('history', 0.1395813524723053),\n",
       " ('opportunity', 0.1353791058063507),\n",
       " ('great', 0.13422365486621857),\n",
       " ('land', 0.13038286566734314)]"
      ]
     },
     "execution_count": 31,
     "metadata": {},
     "output_type": "execute_result"
    }
   ],
   "source": [
    "similar"
   ]
  },
  {
   "cell_type": "code",
   "execution_count": null,
   "metadata": {},
   "outputs": [],
   "source": []
  }
 ],
 "metadata": {
  "kernelspec": {
   "display_name": "Python 3",
   "language": "python",
   "name": "python3"
  },
  "language_info": {
   "codemirror_mode": {
    "name": "ipython",
    "version": 3
   },
   "file_extension": ".py",
   "mimetype": "text/x-python",
   "name": "python",
   "nbconvert_exporter": "python",
   "pygments_lexer": "ipython3",
   "version": "3.8.3"
  }
 },
 "nbformat": 4,
 "nbformat_minor": 4
}
