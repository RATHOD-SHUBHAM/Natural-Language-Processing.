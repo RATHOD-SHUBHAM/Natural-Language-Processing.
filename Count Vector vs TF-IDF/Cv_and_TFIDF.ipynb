{
  "nbformat": 4,
  "nbformat_minor": 0,
  "metadata": {
    "colab": {
      "name": "Cv and TFIDF.ipynb",
      "provenance": []
    },
    "kernelspec": {
      "name": "python3",
      "display_name": "Python 3"
    },
    "language_info": {
      "name": "python"
    }
  },
  "cells": [
    {
      "cell_type": "markdown",
      "metadata": {
        "id": "FUl4_UsZybZK"
      },
      "source": [
        "# [Code Reference - Count Vectorizer](https://scikit-learn.org/stable/modules/generated/sklearn.feature_extraction.text.CountVectorizer.html)"
      ]
    },
    {
      "cell_type": "code",
      "metadata": {
        "colab": {
          "base_uri": "https://localhost:8080/"
        },
        "id": "osr9ZlPiwvQe",
        "outputId": "170411eb-0248-47a0-e517-9100e3240938"
      },
      "source": [
        "from sklearn.feature_extraction.text import CountVectorizer\n",
        "\n",
        "# there are 4 documents in corpua\n",
        "corpus = [\n",
        "          'This is the first document.',\n",
        "          'This document is the second document.',\n",
        "          'And this is the third one.',\n",
        "          'Is this the first document?',\n",
        "          ]\n",
        "\n",
        "          \n",
        "vectorizer = CountVectorizer() # creating instance of Count Vectorizer\n",
        "''' Each Word is Seperated as tokens, number of time each token occurs in a document is counted in a count Vectorizer'''\n",
        "\n",
        "\n",
        "X = vectorizer.fit_transform(corpus)\n",
        "print(vectorizer.get_feature_names())"
      ],
      "execution_count": 3,
      "outputs": [
        {
          "output_type": "stream",
          "text": [
            "['and', 'document', 'first', 'is', 'one', 'second', 'the', 'third', 'this']\n"
          ],
          "name": "stdout"
        }
      ]
    },
    {
      "cell_type": "code",
      "metadata": {
        "colab": {
          "base_uri": "https://localhost:8080/"
        },
        "id": "DDDAsTyLxBg8",
        "outputId": "4dfc0e7f-2fe8-4981-e1b0-6cdf1e794d3c"
      },
      "source": [
        "from pandas import DataFrame\n",
        "print(DataFrame(X.toarray(),columns = vectorizer.get_feature_names()))"
      ],
      "execution_count": 5,
      "outputs": [
        {
          "output_type": "stream",
          "text": [
            "   and  document  first  is  one  second  the  third  this\n",
            "0    0         1      1   1    0       0    1      0     1\n",
            "1    0         2      0   1    0       1    1      0     1\n",
            "2    1         0      0   1    1       0    1      1     1\n",
            "3    0         1      1   1    0       0    1      0     1\n"
          ],
          "name": "stdout"
        }
      ]
    },
    {
      "cell_type": "markdown",
      "metadata": {
        "id": "-OTpeGzEzCHO"
      },
      "source": [
        "# [Code Reference - TF-IDF](https://scikit-learn.org/stable/modules/generated/sklearn.feature_extraction.text.TfidfVectorizer.html)\n",
        "\n",
        "\n",
        "## TF = Number of repetation of words in a sentence / Number of words in a sentence\n",
        "\n",
        "## IDF = log( Number of sentences / Number of sentences containing the word)\n",
        "\n",
        "# TF-IDF = Term Frequency (TF) * Inverse Document Frequency (IDF)"
      ]
    },
    {
      "cell_type": "code",
      "metadata": {
        "colab": {
          "base_uri": "https://localhost:8080/"
        },
        "id": "sjmYyUZcyvt_",
        "outputId": "8e374d1a-e5c6-4bcb-fb5c-3dc3ff7f825c"
      },
      "source": [
        "from sklearn.feature_extraction.text import TfidfVectorizer\n",
        "# there are 4 documents in corpua\n",
        "corpus = [\n",
        "          'This is the first document.',\n",
        "          'This document is the second document.',\n",
        "          'And this is the third one.',\n",
        "          'Is this the first document?',\n",
        "          ]\n",
        "\n",
        "\n",
        "vectorizer = TfidfVectorizer() # creating instance of TF-IDF\n",
        "\n",
        "\n",
        "X = vectorizer.fit_transform(corpus)\n",
        "print(vectorizer.get_feature_names())\n",
        "\n"
      ],
      "execution_count": 10,
      "outputs": [
        {
          "output_type": "stream",
          "text": [
            "['and', 'document', 'first', 'is', 'one', 'second', 'the', 'third', 'this']\n"
          ],
          "name": "stdout"
        }
      ]
    },
    {
      "cell_type": "code",
      "metadata": {
        "colab": {
          "base_uri": "https://localhost:8080/"
        },
        "id": "tC0PCqYTzxEC",
        "outputId": "e1a57dbf-95b0-43fc-c388-d74ab81c7548"
      },
      "source": [
        "from pandas import DataFrame\n",
        "print(DataFrame(X.toarray(),columns = vectorizer.get_feature_names()))"
      ],
      "execution_count": 11,
      "outputs": [
        {
          "output_type": "stream",
          "text": [
            "        and  document     first  ...       the     third      this\n",
            "0  0.000000  0.469791  0.580286  ...  0.384085  0.000000  0.384085\n",
            "1  0.000000  0.687624  0.000000  ...  0.281089  0.000000  0.281089\n",
            "2  0.511849  0.000000  0.000000  ...  0.267104  0.511849  0.267104\n",
            "3  0.000000  0.469791  0.580286  ...  0.384085  0.000000  0.384085\n",
            "\n",
            "[4 rows x 9 columns]\n"
          ],
          "name": "stdout"
        }
      ]
    },
    {
      "cell_type": "code",
      "metadata": {
        "colab": {
          "base_uri": "https://localhost:8080/"
        },
        "id": "mdMHAEWjy7HI",
        "outputId": "218ff967-722e-4c02-a521-1500dee48f35"
      },
      "source": [
        "print(X.shape)"
      ],
      "execution_count": 12,
      "outputs": [
        {
          "output_type": "stream",
          "text": [
            "(4, 9)\n"
          ],
          "name": "stdout"
        }
      ]
    },
    {
      "cell_type": "code",
      "metadata": {
        "id": "8V94BwnHy9rg"
      },
      "source": [
        ""
      ],
      "execution_count": null,
      "outputs": []
    }
  ]
}