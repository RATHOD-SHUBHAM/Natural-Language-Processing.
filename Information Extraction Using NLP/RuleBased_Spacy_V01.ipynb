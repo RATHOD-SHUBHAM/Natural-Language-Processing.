{
  "nbformat": 4,
  "nbformat_minor": 0,
  "metadata": {
    "colab": {
      "name": "RuleBased-Spacy-V01.ipynb",
      "provenance": [],
      "collapsed_sections": []
    },
    "kernelspec": {
      "name": "python3",
      "display_name": "Python 3"
    },
    "language_info": {
      "name": "python"
    }
  },
  "cells": [
    {
      "cell_type": "markdown",
      "metadata": {
        "id": "FO463dIivh7N"
      },
      "source": [
        "# Phrase Matcher"
      ]
    },
    {
      "cell_type": "code",
      "metadata": {
        "colab": {
          "base_uri": "https://localhost:8080/"
        },
        "id": "0-aRocdMr10L",
        "outputId": "cf81e940-0849-4d96-889a-dab607603380"
      },
      "source": [
        "import spacy\n",
        "from spacy.matcher import PhraseMatcher\n",
        "\n",
        "nlp = spacy.load(\"en_core_web_sm\")\n",
        "matcher = PhraseMatcher(nlp.vocab,attr = \"LOWER\")\n",
        "\n",
        "terms = [\"Barack Obama\", \"Angela Merkel\", \"washington\"]\n",
        "# Only run nlp.make_doc to speed things up\n",
        "patterns = [nlp.make_doc(text) for text in terms]\n",
        "matcher.add(\"TerminologyList\", patterns)\n",
        "\n",
        "doc = nlp(\"German Chancellor Angela Merkel and US President Barack Obama \"\n",
        "          \"converse in the Oval Office inside the White House in Washington, D.C.\")\n",
        "matches = matcher(doc)\n",
        "for match_id, start, end in matches:\n",
        "    span = doc[start:end]\n",
        "    print(span.text)"
      ],
      "execution_count": null,
      "outputs": [
        {
          "output_type": "stream",
          "name": "stdout",
          "text": [
            "Angela Merkel\n",
            "Barack Obama\n",
            "Washington\n"
          ]
        }
      ]
    },
    {
      "cell_type": "markdown",
      "metadata": {
        "id": "v5D89fsGwbSQ"
      },
      "source": [
        "# Token Matcher"
      ]
    },
    {
      "cell_type": "code",
      "metadata": {
        "colab": {
          "base_uri": "https://localhost:8080/"
        },
        "id": "FKmQYzyeyOel",
        "outputId": "e463cae8-a1b0-4688-828b-7f0677dbc7d2"
      },
      "source": [
        "import spacy\n",
        "from spacy.matcher import PhraseMatcher\n",
        "\n",
        "nlp = spacy.load(\"en_core_web_sm\")\n",
        "matcher = Matcher(nlp.vocab)\n",
        "\n",
        "\n",
        "# Only run nlp.make_doc to speed things up\n",
        "patterns = [\n",
        "    [{'IS_DIGIT':True,}],\n",
        "    [{'IS_DIGIT':True,},{\"IS_PUNCT\": True,'OP':'*'},{\"LOWER\": \"barack\"}, {\"IS_PUNCT\": True,'OP':'*'}, {\"LOWER\": \"obama\"}],\n",
        "    [{'IS_DIGIT':True},{\"IS_SPACE\": True},{\"IS_PUNCT\": True},{\"LOWER\": \"barack\"}, {\"IS_PUNCT\": True,'OP':'*'}, {\"LOWER\": \"obama\"}]\n",
        "    # [{\"LOWER\": \"barack\"}, {\"LOWER\": \"obama\"}]\n",
        "]\n",
        "matcher.add(\"HelloWorld\", patterns)\n",
        "\n",
        "doc = nlp(\"German Chancellor Angela Merkel and US President 1992 - Barack Obama \"\n",
        "          \"1992 -\"\n",
        "          \"BARACK-OBAMA converse in the Oval Office inside the White House in Washington, D.C.\")\n",
        "matches = matcher(doc)\n",
        "for match_id, start, end in matches:\n",
        "    span = doc[start:end]\n",
        "    print(span.text)"
      ],
      "execution_count": null,
      "outputs": [
        {
          "output_type": "stream",
          "name": "stdout",
          "text": [
            "1992\n",
            "1992 - Barack Obama\n",
            "1992\n"
          ]
        }
      ]
    },
    {
      "cell_type": "code",
      "metadata": {
        "colab": {
          "base_uri": "https://localhost:8080/"
        },
        "id": "gonti_8GwdA-",
        "outputId": "5c4ec5dc-6eb0-4d5d-ff95-9d16e5fad3ea"
      },
      "source": [
        "import spacy\n",
        "from spacy.matcher import Matcher\n",
        "\n",
        "nlp = spacy.load(\"en_core_web_sm\")\n",
        "matcher = Matcher(nlp.vocab)\n",
        "\n",
        "# Add match ID \"HelloWorld\" with no callback and one pattern\n",
        "# pattern = [{\"LOWER\": \"hello\"}, {\"IS_PUNCT\": True}, {\"LOWER\": \"world\"}]\n",
        "# matcher.add(\"HelloWorld\", [pattern])\n",
        "\n",
        "patterns = [\n",
        "    [{\"LOWER\": \"hello\"}, {\"IS_PUNCT\": True}, {\"LOWER\": \"world\"}],\n",
        "    [{\"LOWER\": \"hello\"}, {\"LOWER\": \"world\"}]\n",
        "]\n",
        "matcher.add(\"HelloWorld\", patterns)\n",
        "\n",
        "doc = nlp(\"Hello, world! Hello world!\")\n",
        "matches = matcher(doc)\n",
        "for match_id, start, end in matches:\n",
        "    string_id = nlp.vocab.strings[match_id]  # Get string representation\n",
        "    span = doc[start:end]  # The matched span\n",
        "    print(match_id, string_id, start, end, span.text)"
      ],
      "execution_count": null,
      "outputs": [
        {
          "output_type": "stream",
          "name": "stdout",
          "text": [
            "15578876784678163569 HelloWorld 0 3 Hello, world\n",
            "15578876784678163569 HelloWorld 4 6 Hello world\n"
          ]
        }
      ]
    },
    {
      "cell_type": "code",
      "metadata": {
        "id": "kLO4YvRrwdh1"
      },
      "source": [
        "for match_id, start, end in matches:\n",
        "    string_id = nlp.vocab.strings[match_id]  # 'HelloWorld'\n",
        "    span = doc[start:end]"
      ],
      "execution_count": null,
      "outputs": []
    },
    {
      "cell_type": "code",
      "metadata": {
        "id": "Qluekd51xLvL"
      },
      "source": [
        ""
      ],
      "execution_count": null,
      "outputs": []
    }
  ]
}